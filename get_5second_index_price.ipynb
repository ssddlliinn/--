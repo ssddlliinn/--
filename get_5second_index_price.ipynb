{
 "cells": [
  {
   "cell_type": "code",
   "execution_count": 1,
   "id": "055b77d8",
   "metadata": {},
   "outputs": [],
   "source": [
    "import requests\n",
    "from bs4 import BeautifulSoup as bs\n",
    "import pandas as pd\n",
    "import os\n",
    "import sys\n",
    "sys.path.append(r'C:\\Users\\ANDY\\selfmade_python_module')\n",
    "import sql_func\n",
    "from tqdm.auto import tqdm\n",
    "import time\n",
    "import random"
   ]
  },
  {
   "cell_type": "code",
   "execution_count": 2,
   "id": "db50fef7",
   "metadata": {},
   "outputs": [],
   "source": [
    "y = '2023'"
   ]
  },
  {
   "cell_type": "markdown",
   "id": "0a000670",
   "metadata": {},
   "source": [
    "# For getting whole piece of data"
   ]
  },
  {
   "cell_type": "code",
   "execution_count": 3,
   "id": "37a9265a",
   "metadata": {},
   "outputs": [
    {
     "data": {
      "application/vnd.jupyter.widget-view+json": {
       "model_id": "5b4b682268cf49188f59fcafb9354d53",
       "version_major": 2,
       "version_minor": 0
      },
      "text/plain": [
       "  0%|          | 0/13 [00:00<?, ?it/s]"
      ]
     },
     "metadata": {},
     "output_type": "display_data"
    },
    {
     "data": {
      "application/vnd.jupyter.widget-view+json": {
       "model_id": "16e1f7afc6c34106a101517dfaf72635",
       "version_major": 2,
       "version_minor": 0
      },
      "text/plain": [
       "  0%|          | 0/18 [00:00<?, ?it/s]"
      ]
     },
     "metadata": {},
     "output_type": "display_data"
    },
    {
     "data": {
      "application/vnd.jupyter.widget-view+json": {
       "model_id": "f3521ba108f84ca8bfa0db6cd2d2a37b",
       "version_major": 2,
       "version_minor": 0
      },
      "text/plain": [
       "  0%|          | 0/23 [00:00<?, ?it/s]"
      ]
     },
     "metadata": {},
     "output_type": "display_data"
    },
    {
     "data": {
      "application/vnd.jupyter.widget-view+json": {
       "model_id": "6bf1795dd99a4b958d1b2c02085ea6a1",
       "version_major": 2,
       "version_minor": 0
      },
      "text/plain": [
       "  0%|          | 0/17 [00:00<?, ?it/s]"
      ]
     },
     "metadata": {},
     "output_type": "display_data"
    },
    {
     "data": {
      "application/vnd.jupyter.widget-view+json": {
       "model_id": "9adbf2af6f8a44bd854d3164761b4ca0",
       "version_major": 2,
       "version_minor": 0
      },
      "text/plain": [
       "  0%|          | 0/22 [00:00<?, ?it/s]"
      ]
     },
     "metadata": {},
     "output_type": "display_data"
    },
    {
     "data": {
      "application/vnd.jupyter.widget-view+json": {
       "model_id": "c89f6d33c45444b6a347390da05341dc",
       "version_major": 2,
       "version_minor": 0
      },
      "text/plain": [
       "  0%|          | 0/20 [00:00<?, ?it/s]"
      ]
     },
     "metadata": {},
     "output_type": "display_data"
    },
    {
     "data": {
      "application/vnd.jupyter.widget-view+json": {
       "model_id": "37f4a9edf8de45eea02ca7bbd654d71a",
       "version_major": 2,
       "version_minor": 0
      },
      "text/plain": [
       "  0%|          | 0/21 [00:00<?, ?it/s]"
      ]
     },
     "metadata": {},
     "output_type": "display_data"
    }
   ],
   "source": [
    "opt_path = rf'C:\\Users\\ANDY\\Documents\\股市資料\\資料\\期交所_每秒成交資料_2018-now\\選擇權\\歷史每秒資料_rpt\\{y}'\n",
    "taiex5_path = rf'C:\\Users\\ANDY\\Documents\\股市資料\\資料\\證交所_5秒大盤指數資料_2023-now\\{y}'\n",
    "\n",
    "month_list = os.listdir(opt_path)\n",
    "\n",
    "for m in month_list:\n",
    "    opt_path_m = os.path.join(opt_path,m)\n",
    "    for date in tqdm(os.listdir(opt_path_m)):\n",
    "        day = date[-6:-4]\n",
    "        \n",
    "        store_path = os.path.join(taiex5_path,f'{m}_{day}.db')\n",
    "\n",
    "        if not os.path.exists(store_path):\n",
    "            time.sleep(random.random()*8)\n",
    "            data = []\n",
    "            url = f'https://www.twse.com.tw/rwd/zh/TAIEX/MI_5MINS_INDEX?date={y}{m}{day}&response=html'\n",
    "\n",
    "            html = requests.get(url)\n",
    "            soup = bs(html.text,'lxml')\n",
    "\n",
    "            trs = soup.tbody.find_all('tr')\n",
    "            for tr in trs:\n",
    "                tds = tr.find_all('td')[:2]\n",
    "                data.append([i.getText().replace(',','') for i in tds])\n",
    "            df = pd.DataFrame(data,columns=['Time','Price'])\n",
    "            sql_func.store_data(store_path,df,table_name='taiex')\n",
    "    time.sleep(10.47393)"
   ]
  },
  {
   "cell_type": "code",
   "execution_count": null,
   "id": "31cfc8e1",
   "metadata": {},
   "outputs": [],
   "source": []
  },
  {
   "cell_type": "code",
   "execution_count": null,
   "id": "d78230f9",
   "metadata": {},
   "outputs": [],
   "source": []
  },
  {
   "cell_type": "markdown",
   "id": "3f89279e",
   "metadata": {},
   "source": [
    "# For getting single piece of mistake data"
   ]
  },
  {
   "cell_type": "code",
   "execution_count": 21,
   "id": "ef53763a",
   "metadata": {
    "scrolled": true
   },
   "outputs": [],
   "source": [
    "y='2023'\n",
    "opt_path = rf'C:\\Users\\ANDY\\Documents\\股市資料\\資料\\期交所_每秒成交資料_2018-now\\歷史每秒資料_rpt\\{y}'\n",
    "taiex5_path = rf'C:\\Users\\ANDY\\Documents\\股市資料\\資料\\證交所_5秒大盤指數資料_2023-now\\{y}'\n",
    "\n",
    "m = '04'\n",
    "day = '28'\n",
    "\n",
    "store_path = os.path.join(taiex5_path,f'{m}_{day}.db')\n",
    "\n",
    "if not os.path.exists(store_path):\n",
    "    data = []\n",
    "    url = f'https://www.twse.com.tw/rwd/zh/TAIEX/MI_5MINS_INDEX?date={y}{m}{day}&response=html'\n",
    "\n",
    "    html = requests.get(url)\n",
    "    soup = bs(html.text,'lxml')\n",
    "\n",
    "    trs = soup.tbody.find_all('tr')\n",
    "    for tr in trs:\n",
    "        tds = tr.find_all('td')[:2]\n",
    "        data.append([i.getText().replace(',','') for i in tds])\n",
    "    df = pd.DataFrame(data,columns=['Time','Price'])\n",
    "    sql_func.store_data(store_path,df,table_name='taiex')"
   ]
  },
  {
   "cell_type": "code",
   "execution_count": null,
   "id": "65dc8ba8",
   "metadata": {},
   "outputs": [],
   "source": []
  },
  {
   "cell_type": "code",
   "execution_count": 23,
   "id": "b92ad126",
   "metadata": {},
   "outputs": [
    {
     "data": {
      "text/plain": [
       "'C:\\\\Users\\\\ANDY\\\\Documents\\\\股市資料\\\\資料\\\\證交所_5秒大盤指數資料_2023-now\\\\{y}\\\\01_21.db'"
      ]
     },
     "execution_count": 23,
     "metadata": {},
     "output_type": "execute_result"
    }
   ],
   "source": []
  },
  {
   "cell_type": "code",
   "execution_count": null,
   "id": "66ed3974",
   "metadata": {},
   "outputs": [],
   "source": []
  }
 ],
 "metadata": {
  "kernelspec": {
   "display_name": "Python 3 (ipykernel)",
   "language": "python",
   "name": "python3"
  },
  "language_info": {
   "codemirror_mode": {
    "name": "ipython",
    "version": 3
   },
   "file_extension": ".py",
   "mimetype": "text/x-python",
   "name": "python",
   "nbconvert_exporter": "python",
   "pygments_lexer": "ipython3",
   "version": "3.9.16"
  }
 },
 "nbformat": 4,
 "nbformat_minor": 5
}
